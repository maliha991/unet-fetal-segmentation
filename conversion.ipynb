{
 "cells": [
  {
   "cell_type": "code",
   "execution_count": 30,
   "id": "3c9e65f4",
   "metadata": {},
   "outputs": [],
   "source": [
    "import json\n",
    "import cv2\n",
    "import os\n",
    "import numpy as np\n",
    "from glob import glob\n",
    "    \n",
    "    \n",
    "output_dir = \"Images/Head/head_training_set/hc_binary\"\n",
    "#creating the ground_truth folder if it doesn't exist\n",
    "os.makedirs(output_dir, exist_ok=True)\n",
    "\n",
    "json_files = glob(\"Images/Head/head_training_set/HC_Mask_JSON/*.json\")\n",
    "#loading the json file\n",
    "for image_json in json_files:\n",
    "    with open(image_json) as file:\n",
    "        data = json.load(file)\n",
    "    filename = data[\"imagePath\"].split(\".\")[2].split(\"/\")[2]\n",
    "    #print(filename)\n",
    "\n",
    "    #creating a new ground truth image\n",
    "    mask = np.zeros((data[\"imageHeight\"], data[\"imageWidth\"]), dtype='uint8')\n",
    "    for shape in data['shapes']:\n",
    "        mask = cv2.fillPoly(mask, [np.array(shape['points'], dtype=np.int32)], 255)\n",
    "\n",
    "    # saving the ground truth masks\n",
    "    cv2.imwrite(os.path.join(output_dir,filename) + \".jpg\", mask)"
   ]
  },
  {
   "cell_type": "code",
   "execution_count": 49,
   "id": "bb71c705",
   "metadata": {},
   "outputs": [],
   "source": [
    "from glob import glob\n",
    "from PIL import Image\n",
    "import cv2\n",
    "import os\n",
    "from numpy import asarray\n",
    "\n",
    "output_dir = \"Images/Head/head_training_set/hc_converted_raw\"\n",
    "img_path = \"Images/Head/head_training_set/hc_raw/*.jpg\"\n",
    "os.makedirs(output_dir, exist_ok=True)\n",
    "\n",
    "for image in glob(img_path):\n",
    "    image_path =image.split(\"/\")[3].split(\"\\\\\")[1].split(\".\")[0]\n",
    "    image = Image.open(image).convert('L')\n",
    "    image = asarray(image)\n",
    "    cv2.imwrite(os.path.join(output_dir, image_path)+\".jpg\", image)"
   ]
  },
  {
   "cell_type": "code",
   "execution_count": 1,
   "id": "ba516b57",
   "metadata": {},
   "outputs": [],
   "source": [
    "from glob import glob\n",
    "from PIL import Image\n",
    "import cv2\n",
    "import os\n",
    "from numpy import asarray\n",
    "\n",
    "output_dir = \"Images/Head/head_test_set/hc_test_converted\"\n",
    "img_path = \"Images/Head/head_test_set/hc_test_raw/*.jpg\"\n",
    "os.makedirs(output_dir, exist_ok=True)\n",
    "\n",
    "for image in glob(img_path):\n",
    "    image_path =image.split(\"/\")[3].split(\"\\\\\")[1].split(\".\")[0]\n",
    "    image = Image.open(image).convert('L')\n",
    "    image = asarray(image)\n",
    "    cv2.imwrite(os.path.join(output_dir, image_path)+\".jpg\", image)"
   ]
  },
  {
   "cell_type": "code",
   "execution_count": null,
   "id": "1c58710b",
   "metadata": {},
   "outputs": [],
   "source": []
  }
 ],
 "metadata": {
  "kernelspec": {
   "display_name": "Python 3 (ipykernel)",
   "language": "python",
   "name": "python3"
  },
  "language_info": {
   "codemirror_mode": {
    "name": "ipython",
    "version": 3
   },
   "file_extension": ".py",
   "mimetype": "text/x-python",
   "name": "python",
   "nbconvert_exporter": "python",
   "pygments_lexer": "ipython3",
   "version": "3.9.7"
  }
 },
 "nbformat": 4,
 "nbformat_minor": 5
}
