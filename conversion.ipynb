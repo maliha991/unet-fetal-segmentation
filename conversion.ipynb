{
 "cells": [
  {
   "cell_type": "code",
   "execution_count": 13,
   "id": "f546a6b2",
   "metadata": {},
   "outputs": [],
   "source": [
    "import os\n",
    "import cv2\n",
    "import json\n",
    "import glob\n",
    "import numpy as np\n",
    "import skimage.io as io\n",
    "\n",
    "#save all image files and json files separately to list\n",
    "image_list = sorted(glob.glob('Images/Head/head_training_set/hc_raw/*.png'))\n",
    "ann_list = sorted(glob.glob('Images/Head/head_training_set/HC_Mask_JSON/*.json'))\n",
    "save_path = \"Images/Head/head_training_set/hc_binary\"\n",
    "\n",
    "#create blank mask with image sizes\n",
    "def create_binary_masks(im, shape_dicts):\n",
    "    \n",
    "    blank = np.zeros(shape=(im.shape[0], im.shape[1]), dtype=np.float32)\n",
    "    for shape in shape_dicts:\n",
    "        points = np.array(shape['points'], dtype=np.int32)\n",
    "        cv2.fillPoly(blank, [points], 255)\n",
    "    return blank\n",
    "\n",
    "#get annotated points\n",
    "def get_poly(ann_path):\n",
    "    \n",
    "    with open(ann_path) as handle:\n",
    "        data = json.load(handle)\n",
    "    shape_dicts = data['shapes']\n",
    "    \n",
    "    return shape_dicts\n",
    "\n",
    "#iterate every image and its json file to create binary mask\n",
    "for im_fn, ann_fn in zip(image_list, ann_list):\n",
    "    \n",
    "    im = cv2.imread(im_fn, 0)\n",
    "    shape_dicts = get_poly(ann_fn)\n",
    "    im_binary = create_binary_masks(im, shape_dicts)\n",
    "    \n",
    "    #extract the name of image file\n",
    "    filename = im_fn.split('.png')[-2].split('\\\\')[-1] + '.png'\n",
    "    io.imsave(os.path.join(save_path, filename), im_binary)\n",
    "    cv2.imwrite(filename, im_binary)\n",
    "    cv2.waitKey(0)\n",
    "    cv2.destroyAllWindows()\n",
    "    "
   ]
  },
  {
   "cell_type": "code",
   "execution_count": null,
   "id": "1dd3f12c",
   "metadata": {},
   "outputs": [],
   "source": []
  },
  {
   "cell_type": "code",
   "execution_count": null,
   "id": "b26f94e9",
   "metadata": {},
   "outputs": [],
   "source": []
  }
 ],
 "metadata": {
  "kernelspec": {
   "display_name": "Python 3 (ipykernel)",
   "language": "python",
   "name": "python3"
  },
  "language_info": {
   "codemirror_mode": {
    "name": "ipython",
    "version": 3
   },
   "file_extension": ".py",
   "mimetype": "text/x-python",
   "name": "python",
   "nbconvert_exporter": "python",
   "pygments_lexer": "ipython3",
   "version": "3.9.7"
  }
 },
 "nbformat": 4,
 "nbformat_minor": 5
}
